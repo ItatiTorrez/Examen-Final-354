{
  "nbformat": 4,
  "nbformat_minor": 0,
  "metadata": {
    "colab": {
      "provenance": []
    },
    "kernelspec": {
      "name": "python3",
      "display_name": "Python 3"
    },
    "language_info": {
      "name": "python"
    }
  },
  "cells": [
    {
      "cell_type": "code",
      "execution_count": 1,
      "metadata": {
        "colab": {
          "base_uri": "https://localhost:8080/"
        },
        "id": "v7GxLaLNQxdt",
        "outputId": "13ed98d8-e1c3-424f-c153-3a623e68167e"
      },
      "outputs": [
        {
          "output_type": "stream",
          "name": "stdout",
          "text": [
            "Solución encontrada: [5, 1, 1, 1, 5, 6, 0, 0]\n"
          ]
        }
      ],
      "source": [
        "import random\n",
        "import math\n",
        "\n",
        "# Función para evaluar la energía (número de colisiones de reinas)\n",
        "def energy(board):\n",
        "    conflicts = 0\n",
        "    n = len(board)\n",
        "    for i in range(n):\n",
        "        for j in range(i + 1, n):\n",
        "            if abs(board[i] - board[j]) == abs(i - j):  # Verifica si las reinas se atacan diagonalmente\n",
        "                conflicts += 1\n",
        "    return conflicts\n",
        "\n",
        "# Función para realizar un movimiento aleatorio (vecino)\n",
        "def generate_neighbor(board):\n",
        "    neighbor = board[:]\n",
        "    i = random.randint(0, len(board) - 1)\n",
        "    j = random.randint(0, len(board) - 1)\n",
        "    neighbor[i] = j  # Mueve la reina i a la columna j\n",
        "    return neighbor\n",
        "\n",
        "# Función de Simulado Recocido\n",
        "def simulated_annealing(n, max_iterations=1000, initial_temp=1000, cooling_rate=0.995):\n",
        "    # Estado inicial (configuración aleatoria)\n",
        "    current_state = [random.randint(0, n - 1) for _ in range(n)]\n",
        "    current_energy = energy(current_state)\n",
        "    temperature = initial_temp\n",
        "\n",
        "    best_state = current_state\n",
        "    best_energy = current_energy\n",
        "\n",
        "    for _ in range(max_iterations):\n",
        "        if current_energy == 0:  # Si la energía es cero, hemos encontrado la solución\n",
        "            break\n",
        "\n",
        "        # Genera un vecino\n",
        "        neighbor = generate_neighbor(current_state)\n",
        "        neighbor_energy = energy(neighbor)\n",
        "\n",
        "        # Si el vecino es mejor o si se acepta con una cierta probabilidad\n",
        "        if neighbor_energy < current_energy or random.random() < math.exp((current_energy - neighbor_energy) / temperature):\n",
        "            current_state = neighbor\n",
        "            current_energy = neighbor_energy\n",
        "\n",
        "            # Si el vecino es el mejor hasta ahora, guardO la solución\n",
        "            if current_energy < best_energy:\n",
        "                best_state = current_state\n",
        "                best_energy = current_energy\n",
        "\n",
        "        # Enfriamiento\n",
        "        temperature *= cooling_rate\n",
        "\n",
        "    return best_state\n",
        "\n",
        "# Parámetros\n",
        "n = 8  # Número de reinas\n",
        "solution = simulated_annealing(n)\n",
        "\n",
        "print(f\"Solución encontrada: {solution}\")\n"
      ]
    }
  ]
}